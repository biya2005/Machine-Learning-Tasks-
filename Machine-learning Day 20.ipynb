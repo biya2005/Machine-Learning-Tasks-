{
 "cells": [
  {
   "cell_type": "markdown",
   "metadata": {},
   "source": [
    "# **Unsupervised Learning**"
   ]
  },
  {
   "cell_type": "markdown",
   "metadata": {},
   "source": [
    "### Groups are usually called Clusters. \n",
    "### Clusters is made based on features in unsupervised \n",
    "### Clustering Algorithm :  \n",
    "## 1- K-means clustering (K number of clusters are arranged on the bases of similarties). We have to minimize the intracluster variances. And increasing Inter-cluster  Intra means inside and inter means making comparison between two things. \n",
    "\n",
    "## 2- Hierarichal Clustering: It is a order and find major level of similarties ,then minor ones , and more minor similarties and making the group of each  is called hierarical. Linking and finding similarties.\n",
    "\n",
    "## 3- DBSCAN Alogrithm (Density based spatial clustering of application with noise) :  Find the dense region desnsity means (rash in area). It separate the similarties based on density. \n",
    "\n",
    "## 4- Gaussian Mixture Models (GMM) : \n",
    "\n",
    "### Dimensionally Reduction Algorithm :  The types in this are follow \n",
    "\n",
    "### 1- Principl Components Anlaysis: we draw data on the basis of variance and draw a parameter on vectors . The relation between is how much positive and negative in them. PCA tells the correlation among the features. \n",
    "\n",
    "### 2- T - SNE ( T- distributed , Stocastic Neighbour Embedding) : It converts the high dimension data in to low dimension data and present it. It standard deviation is incresed. On the basis of variance we compare it.\n",
    "\n",
    "### 3- Auto- Encoders: It runs on the basis of neural network and reconstruct the input by comprasing the information from one layer to another. \n",
    "\n",
    "### 4- SVD (Singular Value Decomposition): It converts the data from matric to single vectors. \n",
    "\n",
    "\n",
    "### Anomilies detection Algorithm (Outlier in data):\n",
    "\n",
    "#### 1- Isolation forest: It isolate the main data from the data. \n",
    "#### 2- Local outlier Factor: (LOF)\n",
    "#### 3- One Class Support Vector Machine (SVM): \n",
    "\n",
    "### Association Rule Learning Algorithm:\n",
    "### Topic Modeling Algorithm : On the basis of matrics relate the data :\n",
    "### Neural Network Based Models: "
   ]
  },
  {
   "cell_type": "markdown",
   "metadata": {},
   "source": [
    "# K-Mean Clustering "
   ]
  },
  {
   "cell_type": "markdown",
   "metadata": {},
   "source": [
    "### Why clustering in data science ?\n",
    "#### Science dehind the data is called data science. Finding the patterns behind the data. When we explore the data it is held by clustering. It tell the relationship of data and grouping of data. It is fundamental techniques used in data and data techniques. It is unsupervised machine learning data. We indentifies groups of data , patterns of data , similiarities and difference of data. These techniques are used in EDA (Exploratory data analysis).\n",
    "\n",
    "### Benefits of Clustering :\n",
    "#### 1- Data exploration and analysis \n",
    "#### 2- Pattern detaction (indentify the pattern to know trend of data)\n",
    "#### 3- Dimensionaly Reduction \n",
    "#### 4- Pre- Processing \n",
    "#### 5- Image Segmentation \n",
    "#### 6- Recommendation System \n",
    "\n"
   ]
  }
 ],
 "metadata": {
  "kernelspec": {
   "display_name": "base",
   "language": "python",
   "name": "python3"
  },
  "language_info": {
   "name": "python",
   "version": "3.12.7"
  }
 },
 "nbformat": 4,
 "nbformat_minor": 2
}
