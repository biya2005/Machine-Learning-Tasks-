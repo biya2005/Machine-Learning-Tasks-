{
 "cells": [
  {
   "cell_type": "markdown",
   "id": "2dacb550",
   "metadata": {},
   "source": [
    "# ***Feature Engineering***"
   ]
  },
  {
   "cell_type": "markdown",
   "id": "4fad52af",
   "metadata": {},
   "source": [
    "### Definition: The featyre Enginnering is a process of transfoe=rming the raw data into features that are suitable for the machine learning models. In other models, it is the process in which we extracting , selecting and featuring that data to build more efficient and accurate machine learning models. The featuring enginnering really depends upon the models working. As it is the important process for making the machine more efficient and accurate for the running of the machine learning models. The more model is best fitted the more perfect the model can design the machine more accurate nad efiicient for the up coming the models and the results can be more efficient and progress of the model will be define more efficient. \n",
    "\n",
    "\n"
   ]
  },
  {
   "cell_type": "markdown",
   "id": "e654f135",
   "metadata": {},
   "source": [
    "## **Important Processes for features Engineering**"
   ]
  },
  {
   "cell_type": "markdown",
   "id": "a6df8f9f",
   "metadata": {},
   "source": [
    "### 1- Features Creations \n",
    "### 2- Features Selection \n",
    "### 3- Features Extraction \n",
    "### 4- Features Transformation \n",
    "### 5- Features Scaling \n",
    "\n"
   ]
  },
  {
   "cell_type": "markdown",
   "id": "22a020c4",
   "metadata": {},
   "source": [
    "## **Steps in Features Engineering**"
   ]
  },
  {
   "cell_type": "markdown",
   "id": "f156dba7",
   "metadata": {},
   "source": [
    "### 1- Data Cleansing \n",
    "### 2- Data Transformation \n",
    "### 3- Features Extraction \n",
    "### 4- Features Selection \n",
    "### 5- Features Iteration \n"
   ]
  },
  {
   "cell_type": "markdown",
   "id": "a6514d5f",
   "metadata": {},
   "source": [
    "## **Features Selection** "
   ]
  },
  {
   "cell_type": "markdown",
   "id": "14140a70",
   "metadata": {},
   "source": [
    "### The few methods for selecting the features for the models are as follow:\n",
    "#### 1- Filter Methods ( It is based on basic Statistics )\n",
    "#### 2- Wrappers Methods \n",
    "#### 3- Embedded Methods \n",
    "#### 4- Dimensionaly Reductor \n",
    "#### 5- Regularization Methods \n",
    "#### 6- Deep Methods Based Methods \n",
    "#### 7- .\n"
   ]
  }
 ],
 "metadata": {
  "kernelspec": {
   "display_name": "base",
   "language": "python",
   "name": "python3"
  },
  "language_info": {
   "name": "python",
   "version": "3.12.7"
  }
 },
 "nbformat": 4,
 "nbformat_minor": 5
}
