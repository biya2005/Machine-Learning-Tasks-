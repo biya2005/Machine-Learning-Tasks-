{
 "cells": [
  {
   "cell_type": "markdown",
   "metadata": {},
   "source": [
    "# Cross- Validation Part 1 "
   ]
  },
  {
   "cell_type": "markdown",
   "metadata": {},
   "source": [
    "### Cross- Validation is a technique to evalute the model by spiliting the data into training and testset.Cross validation is a statistically used in machine learning.\n",
    "\n",
    "### Types of Cross Validation \n",
    "\n",
    "## 1- K-Fold Cross Validation\n",
    "## 2- train test spilit\n",
    "## 3- Stratified K-Fold Cross Validation\n",
    "## 4- Leave One Out Cross Validation\n",
    "## 5- Time Series Cross Validation\n",
    "## 6- Group K-Fold Cross Validation"
   ]
  },
  {
   "cell_type": "markdown",
   "metadata": {},
   "source": [
    "# **Pip line in Machine Learning**\n",
    "\n",
    "### In machine learning , a pipline is a squence of data processing steps that are chained together to automate and streamline the machine learning workflow. A pipline allows you to combine multiple data processing and model training steps in single objects, making it organize and manage your machine learning code.   "
   ]
  },
  {
   "cell_type": "markdown",
   "metadata": {},
   "source": [
    "# Best Model Selection In Python Using Scikit Learn \n",
    "\n"
   ]
  }
 ],
 "metadata": {
  "kernelspec": {
   "display_name": "base",
   "language": "python",
   "name": "python3"
  },
  "language_info": {
   "name": "python",
   "version": "3.12.7"
  }
 },
 "nbformat": 4,
 "nbformat_minor": 2
}
