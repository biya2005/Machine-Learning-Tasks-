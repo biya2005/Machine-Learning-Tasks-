{
 "cells": [
  {
   "cell_type": "markdown",
   "id": "3635d6f3",
   "metadata": {},
   "source": [
    "# **K-Means In Detail**"
   ]
  },
  {
   "cell_type": "markdown",
   "id": "9b5adabb",
   "metadata": {},
   "source": [
    "### It is unsupervised machine learning. It details with factors only. It classify data points into groups based on their anomiles. It shows the value of clusters to be created. \n",
    "\n",
    "### Major stpes of K means \n",
    "## 1- Initialization \n",
    "## 2- Assignment \n",
    "## 3- Update (The pattern of each centroid is reduced)\n",
    "## 4- Iteration  ( The second point and step three until centriod do not move significantly)\n",
    "\n",
    "\n",
    "### Centroid: The center which helps points to meet.\n",
    "## 1- User input , means user tell how many K should be made \n",
    "## 2- Attracts the data points \n",
    "## 3- Centroid attracts the point towards its \n",
    "## 4- One cluster mismatch means cluster destroyed \n",
    "## 5- Choose cluster better means K number\n",
    "## 6- Choose the iteration carefully \n",
    "\n",
    "### For K methods \n",
    "#### 1- Elbow Methods \n",
    "#### 2- Sillhoutee method ( It is a measure of how similar an object is to its own cluster's data point). It is cohension to know the comparison of oyther cluaters called separation. Finding the same one in data set.It likes its own type(+1). If it is (-1) it denies to respond. \n",
    "\n",
    "\n",
    "## Limitations of K-Means \n",
    "\n",
    "#### 1- Finding the number of clusters is difficult \n",
    "#### 2- Sensitive to initial centrroid \n",
    "#### 3- Multiples runs \n",
    "#### 4- Spherical assumption \n",
    "#### 5- Outliers free \n",
    "#### 6- Scaled \n",
    "#### 7- Not good for binary data \n",
    "#### 8- Scalability \n",
    "#### 9- Computationaly expenses \n",
    "#### 10 - Global optima \n"
   ]
  }
 ],
 "metadata": {
  "kernelspec": {
   "display_name": "base",
   "language": "python",
   "name": "python3"
  },
  "language_info": {
   "name": "python",
   "version": "3.12.7"
  }
 },
 "nbformat": 4,
 "nbformat_minor": 5
}
