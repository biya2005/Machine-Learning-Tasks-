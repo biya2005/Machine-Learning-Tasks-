{
 "cells": [
  {
   "cell_type": "markdown",
   "metadata": {},
   "source": [
    "# **Evaluation Metrics**"
   ]
  },
  {
   "cell_type": "markdown",
   "metadata": {},
   "source": [
    "## Problems are of three types\n",
    "### 1- Regression   ( Linear Regression)\n",
    "### 2- Classifiaction (Logistic Regression)\n",
    "### 3- Clustering (K-mean)\n",
    "\n",
    "## Regression Metrics are of the following types \n",
    "### 1- Mean Absolute Error (MAE)\n",
    "### 2- Mean Squared Error (MSE)\n",
    "### 3- Root Mean Squared Error (RMSE)\n",
    "### 4- R-squared (R2)\n",
    "### 5- Adjusted R- square \n",
    "\n"
   ]
  },
  {
   "cell_type": "markdown",
   "metadata": {},
   "source": [
    "# **Day 14 of machine learning** \n"
   ]
  },
  {
   "cell_type": "markdown",
   "metadata": {},
   "source": [
    "### In confusion metrics as the metrics are in array as the actual output is in array of row and the predicted output is in array of column. In the diagonal form the values will be true positive. In statistic false positive is called type 1 error and the false negative is called type 2 error.  "
   ]
  }
 ],
 "metadata": {
  "kernelspec": {
   "display_name": "base",
   "language": "python",
   "name": "python3"
  },
  "language_info": {
   "name": "python",
   "version": "3.12.7"
  }
 },
 "nbformat": 4,
 "nbformat_minor": 2
}
