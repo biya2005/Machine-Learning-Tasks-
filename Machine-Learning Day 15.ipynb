{
 "cells": [
  {
   "cell_type": "markdown",
   "metadata": {},
   "source": [
    "# **Boosting Alogrithm from Ensemble Family** "
   ]
  },
  {
   "cell_type": "markdown",
   "metadata": {},
   "source": [
    "## When you utilize more than one model and xombine them is called \"Ensembling \". There are three methods of Ensembling \n",
    "### 1- Bagging \n",
    "### 2- Boosting \n",
    "### 3- Stacking \n",
    "\n",
    "### Bagging : In boosting we divide the original data into smaller subsets and trian the model on each subset. \n",
    "#### First we bootsprap, aggregate and then bagging the data.\n",
    "### In boosting we use the data in series way and in bagging we use the data parrallely.\n",
    "\n",
    "\n",
    "### Advantages of boosting are as follow:\n",
    "### 1- Improved Performance \n",
    "### 2- Ability to handle Complex data \n",
    "### 3- Robustness to noise \n",
    "### 4- Flexibility \n",
    "### 5- Interpretability \n",
    "\n",
    "## Various methods of Boosting \n",
    "### 1- ADA- boosting (Adaptive Boosting) : Most extensively used boosting algorithm. ADA boosting is useful for classification tasks. It performs well on imbalnaced data. And on its bases it work on updated dataset. \n",
    "\n",
    "### 2- Gradient Boosting: On the bases of radiual error it trains the rest of the data. \n",
    "### 3- Catboosting: works on categorial dataset \n",
    "### 4- Stochastic Gradient Boosting \n",
    "### 5- LP boosting (linear programming boosting)\n",
    "### 6- Total Boosting \n",
    "\n",
    "\n",
    "\n"
   ]
  },
  {
   "cell_type": "code",
   "execution_count": 18,
   "metadata": {},
   "outputs": [],
   "source": [
    "# Import the libaries \n",
    "\n",
    "import pandas as pd \n",
    "import numpy as np \n",
    "import matplotlib.pyplot as plt\n",
    "import seaborn as sns\n",
    "from xgboost import XGBClassifier   \n",
    "from sklearn.model_selection import train_test_split\n",
    "from sklearn.metrics import accuracy_score, precision_score, recall_score, f1_score \n",
    "from sklearn.preprocessing import LabelEncoder\n",
    "from sklearn.tree import DecisionTreeClassifier\n",
    "from sklearn.ensemble import RandomForestClassifier"
   ]
  },
  {
   "cell_type": "code",
   "execution_count": 19,
   "metadata": {},
   "outputs": [
    {
     "name": "stdout",
     "output_type": "stream",
     "text": [
      "Requirement already satisfied: xgboost in d:\\users\\abiha\\anaconda3\\lib\\site-packages (3.0.0)\n",
      "Requirement already satisfied: numpy in d:\\users\\abiha\\anaconda3\\lib\\site-packages (from xgboost) (1.26.4)\n",
      "Requirement already satisfied: scipy in d:\\users\\abiha\\anaconda3\\lib\\site-packages (from xgboost) (1.13.1)\n",
      "Note: you may need to restart the kernel to use updated packages.\n"
     ]
    }
   ],
   "source": [
    "pip install xgboost "
   ]
  },
  {
   "cell_type": "code",
   "execution_count": 20,
   "metadata": {},
   "outputs": [
    {
     "data": {
      "text/html": [
       "<div>\n",
       "<style scoped>\n",
       "    .dataframe tbody tr th:only-of-type {\n",
       "        vertical-align: middle;\n",
       "    }\n",
       "\n",
       "    .dataframe tbody tr th {\n",
       "        vertical-align: top;\n",
       "    }\n",
       "\n",
       "    .dataframe thead th {\n",
       "        text-align: right;\n",
       "    }\n",
       "</style>\n",
       "<table border=\"1\" class=\"dataframe\">\n",
       "  <thead>\n",
       "    <tr style=\"text-align: right;\">\n",
       "      <th></th>\n",
       "      <th>sepal_length</th>\n",
       "      <th>sepal_width</th>\n",
       "      <th>petal_length</th>\n",
       "      <th>petal_width</th>\n",
       "      <th>species</th>\n",
       "    </tr>\n",
       "  </thead>\n",
       "  <tbody>\n",
       "    <tr>\n",
       "      <th>0</th>\n",
       "      <td>5.1</td>\n",
       "      <td>3.5</td>\n",
       "      <td>1.4</td>\n",
       "      <td>0.2</td>\n",
       "      <td>setosa</td>\n",
       "    </tr>\n",
       "    <tr>\n",
       "      <th>1</th>\n",
       "      <td>4.9</td>\n",
       "      <td>3.0</td>\n",
       "      <td>1.4</td>\n",
       "      <td>0.2</td>\n",
       "      <td>setosa</td>\n",
       "    </tr>\n",
       "    <tr>\n",
       "      <th>2</th>\n",
       "      <td>4.7</td>\n",
       "      <td>3.2</td>\n",
       "      <td>1.3</td>\n",
       "      <td>0.2</td>\n",
       "      <td>setosa</td>\n",
       "    </tr>\n",
       "    <tr>\n",
       "      <th>3</th>\n",
       "      <td>4.6</td>\n",
       "      <td>3.1</td>\n",
       "      <td>1.5</td>\n",
       "      <td>0.2</td>\n",
       "      <td>setosa</td>\n",
       "    </tr>\n",
       "    <tr>\n",
       "      <th>4</th>\n",
       "      <td>5.0</td>\n",
       "      <td>3.6</td>\n",
       "      <td>1.4</td>\n",
       "      <td>0.2</td>\n",
       "      <td>setosa</td>\n",
       "    </tr>\n",
       "  </tbody>\n",
       "</table>\n",
       "</div>"
      ],
      "text/plain": [
       "   sepal_length  sepal_width  petal_length  petal_width species\n",
       "0           5.1          3.5           1.4          0.2  setosa\n",
       "1           4.9          3.0           1.4          0.2  setosa\n",
       "2           4.7          3.2           1.3          0.2  setosa\n",
       "3           4.6          3.1           1.5          0.2  setosa\n",
       "4           5.0          3.6           1.4          0.2  setosa"
      ]
     },
     "execution_count": 20,
     "metadata": {},
     "output_type": "execute_result"
    }
   ],
   "source": [
    "# import the dataset \n",
    "\n",
    "df=sns.load_dataset(\"iris\")\n",
    "df.head()\n"
   ]
  },
  {
   "cell_type": "code",
   "execution_count": 21,
   "metadata": {},
   "outputs": [
    {
     "data": {
      "text/plain": [
       "<Axes: xlabel='sepal_length', ylabel='sepal_width'>"
      ]
     },
     "execution_count": 21,
     "metadata": {},
     "output_type": "execute_result"
    },
    {
     "data": {
      "image/png": "[encoded data removed]",
      "text/plain": [
       "<Figure size 640x480 with 1 Axes>"
      ]
     },
     "metadata": {},
     "output_type": "display_data"
    }
   ],
   "source": [
    "## Plot the dataset as scatterplot\n",
    "sns.scatterplot (x='sepal_length', y='sepal_width', hue='species', data=df)"
   ]
  },
  {
   "cell_type": "code",
   "execution_count": 22,
   "metadata": {},
   "outputs": [],
   "source": [
    "# Spilit the data into X amd y\n",
    "X=df.drop('species', axis=1)\n",
    "y=df['species']\n",
    "\n",
    "## Encode the target variable\n",
    "\n",
    "le=LabelEncoder()\n",
    "y=le.fit_transform(y)\n",
    "\n",
    "## Train the data \n",
    "X_train, X_test, y_train, y_test = train_test_split(X, y, test_size=0.2)\n",
    "\n"
   ]
  },
  {
   "cell_type": "code",
   "execution_count": 23,
   "metadata": {},
   "outputs": [
    {
     "name": "stdout",
     "output_type": "stream",
     "text": [
      "Accuracy Score of Decision Tree:  1.0\n",
      "Precision Score of Decision Tree:  1.0\n",
      "Recall Score of Decision Tree:  1.0\n",
      "F1 Score of Decision Tree:  1.0\n"
     ]
    }
   ],
   "source": [
    "# Train the decision tree model \n",
    "model=DecisionTreeClassifier()\n",
    "model.fit(X_train, y_train)\n",
    "\n",
    "# Predict the test data \n",
    "y_pred=model.predict(X_test)\n",
    "\n",
    "# Print the accuracy score , Presicion score , recall score , f1 score  \n",
    "print(\"Accuracy Score of Decision Tree: \", accuracy_score(y_test, y_pred))\n",
    "print(\"Precision Score of Decision Tree: \", precision_score(y_test, y_pred, average='micro'))\n",
    "print(\"Recall Score of Decision Tree: \", recall_score(y_test, y_pred, average='micro'))\n",
    "print(\"F1 Score of Decision Tree: \", f1_score(y_test, y_pred, average='micro'))\n",
    "\n",
    "\n",
    "\n"
   ]
  },
  {
   "cell_type": "code",
   "execution_count": 24,
   "metadata": {},
   "outputs": [
    {
     "name": "stdout",
     "output_type": "stream",
     "text": [
      "Accuracy Score of Random Forest:  1.0\n",
      "Precision Score of Random Forest:  1.0\n",
      "Recall Score of Random Forest:  1.0\n",
      "F1 Score of Random Forest:  1.0\n",
      "CPU times: total: 141 ms\n",
      "Wall time: 151 ms\n"
     ]
    }
   ],
   "source": [
    "%%time \n",
    "\n",
    "\n",
    "## Train the random forest model \n",
    "\n",
    "rf=RandomForestClassifier()\n",
    "rf.fit(X_train, y_train)\n",
    "\n",
    "# predict the test data \n",
    "y_pred=rf.predict(X_test)\n",
    "\n",
    "print(\"Accuracy Score of Random Forest: \", accuracy_score(y_test, y_pred))\n",
    "print(\"Precision Score of Random Forest: \", precision_score(y_test, y_pred, average='micro'))\n",
    "print(\"Recall Score of Random Forest: \", recall_score(y_test, y_pred, average='micro'))\n",
    "print(\"F1 Score of Random Forest: \", f1_score(y_test, y_pred, average='micro'))\n",
    "\n"
   ]
  },
  {
   "cell_type": "markdown",
   "metadata": {},
   "source": [
    "## For XGboost the encoding is quite important "
   ]
  },
  {
   "cell_type": "code",
   "execution_count": 25,
   "metadata": {},
   "outputs": [
    {
     "name": "stdout",
     "output_type": "stream",
     "text": [
      "Accuracy Score of XGBoost:  1.0\n",
      "Precision Score of XGBoost:  1.0\n",
      "Recall Score of XGBoost:  1.0\n",
      "F1 Score of XGBoost:  1.0\n"
     ]
    }
   ],
   "source": [
    "## Train the xgboost model \n",
    "xgb_model=XGBClassifier()\n",
    "xgb_model.fit(X_train, y_train)\n",
    "\n",
    "## Predict the test data\n",
    "y_pred=xgb_model.predict(X_test)\n",
    "\n",
    "print(\"Accuracy Score of XGBoost: \", accuracy_score(y_test, y_pred))\n",
    "print(\"Precision Score of XGBoost: \", precision_score(y_test, y_pred, average='micro'))\n",
    "print(\"Recall Score of XGBoost: \", recall_score(y_test, y_pred, average='micro'))\n",
    "print(\"F1 Score of XGBoost: \", f1_score(y_test, y_pred, average='micro'))\n",
    "\n"
   ]
  },
  {
   "cell_type": "code",
   "execution_count": 28,
   "metadata": {},
   "outputs": [
    {
     "data": {
      "image/png": "[encoded data removed]",
      "text/plain": [
       "<Figure size 1000x400 with 3 Axes>"
      ]
     },
     "metadata": {},
     "output_type": "display_data"
    }
   ],
   "source": [
    "## Make the plot for showing each of the matrix with repect to model \n",
    "plt.figure(figsize=(10, 4))\n",
    "plt.subplot(1, 4, 1)\n",
    "sns.barplot(x=['Decision Tree', 'Random Forest', 'XGBoost'], y=[accuracy_score(y_test, y_pred), accuracy_score(y_test, y_pred), accuracy_score(y_test, y_pred)])\n",
    "plt.title('Decision Tree')\n",
    "plt.subplot(1, 4, 2)\n",
    "sns.barplot(x=['Decision Tree', 'Random Forest', 'XGBoost'], y=[accuracy_score(y_test, y_pred), accuracy_score(y_test, y_pred), accuracy_score(y_test, y_pred)])\n",
    "plt.title('Random Forest')\n",
    "plt.subplot(1, 4, 3)\n",
    "sns.barplot(x=['Decision Tree', 'Random Forest', 'XGBoost'], y=[accuracy_score(y_test, y_pred), accuracy_score(y_test, y_pred), accuracy_score(y_test, y_pred)])\n",
    "plt.title('XGBoost')\n",
    "plt.tight_layout()\n",
    "plt.show()\n",
    "\n"
   ]
  },
  {
   "cell_type": "markdown",
   "metadata": {},
   "source": [
    "## The End "
   ]
  }
 ],
 "metadata": {
  "kernelspec": {
   "display_name": "base",
   "language": "python",
   "name": "python3"
  },
  "language_info": {
   "codemirror_mode": {
    "name": "ipython",
    "version": 3
   },
   "file_extension": ".py",
   "mimetype": "text/x-python",
   "name": "python",
   "nbconvert_exporter": "python",
   "pygments_lexer": "ipython3",
   "version": "3.12.7"
  }
 },
 "nbformat": 4,
 "nbformat_minor": 2
}
